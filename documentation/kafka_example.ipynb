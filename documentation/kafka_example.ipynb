version https://git-lfs.github.com/spec/v1
oid sha256:2ce5bcd129fa025b58ad026b0ced824320e83a41b69f3d073b4c9872aa472515
size 3565
