version https://git-lfs.github.com/spec/v1
oid sha256:c8f37e1d70cfcbf1d86d9f5a31a0aae378ff74e3aa520d108bdc3c23c63584c2
size 3052
